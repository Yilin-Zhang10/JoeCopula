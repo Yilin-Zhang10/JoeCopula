{
 "cells": [
  {
   "cell_type": "markdown",
   "metadata": {},
   "source": [
    "## Archimedean Copula"
   ]
  },
  {
   "cell_type": "code",
   "execution_count": 1,
   "metadata": {
    "collapsed": true
   },
   "outputs": [],
   "source": [
    "#! usr/bin/env python\n",
    "# -*- coding:utf-8 -*-\n",
    "from __future__ import print_function, unicode_literals\n",
    "\n",
    "\n",
    "# ========== import packages ==========\n",
    "\n",
    "# import third-party packages\n",
    "import numpy as np\n",
    "import sympy as sp\n",
    "from scipy import integrate\n",
    "\n",
    "# ========== class definition ==========\n",
    "\n",
    "# ----- Base Classes of Coupla ------\n",
    "class ArcmCopula(object):\n",
    "    \"\"\"\n",
    "    Note to reader: Each bivariate copula should be its own subclass that implements the following methods.\n",
    "    \"\"\"\n",
    "\n",
    "    def __init__(self):\n",
    "        pass\n",
    "\n",
    "    def pdf(self):\n",
    "        \"\"\"\n",
    "        Evaluate the probability distribution function (pdf) at a point (u,v) for a parameter theta\n",
    "        \"\"\"\n",
    "        pass\n",
    "\n",
    "    def cdf(self):\n",
    "        \"\"\"\n",
    "        Evaluate the cumulative distribution function (cdf) at a point (u,v) for a parameter theta\n",
    "        \"\"\"\n",
    "        pass\n",
    "\n",
    "    def rvs(self):\n",
    "        \"\"\"\n",
    "        Generate a simulation for the copula given a specified parameter theta.\n",
    "        \"\"\"\n",
    "        pass\n",
    "\n",
    "    def rho(self):\n",
    "        \"\"\"\n",
    "        Calculate Spearman's rho for the copula given a specified parameter theta.\n",
    "        \"\"\"\n",
    "        pass\n",
    "\n",
    "    def tau(self):\n",
    "        \"\"\"\n",
    "        Calculate Kendall's tau for the copula given a specified parameter theta.\n",
    "        \"\"\""
   ]
  },
  {
   "cell_type": "markdown",
   "metadata": {},
   "source": [
    "### Joe Copula\n",
    "\n",
    "Reference:\n",
    "- genarator function and inverse genarator function[wiki]\n",
    "- tau[An Introduction to Copulas P163]"
   ]
  },
  {
   "cell_type": "code",
   "execution_count": 4,
   "metadata": {
    "collapsed": false
   },
   "outputs": [
    {
     "name": "stdout",
     "output_type": "stream",
     "text": [
      "[ 0.0070295   0.02764251]\n"
     ]
    }
   ],
   "source": [
    "# ---- Joe Coupla -----\n",
    "class JoeCopula(object): # object waiting to change \n",
    "    \"\"\"\n",
    "    An joe_copula with one parameter theta.\n",
    "    Get pdf, cdf, logpdf, sf, logsf given 2D-ndarray,\n",
    "    seeing each row as a point in distribution.\n",
    "    \n",
    "    Parameters\n",
    "    ----------\n",
    "        x: 2D-ndarray;\n",
    "           number in x should be between (0,1);\n",
    "    theta: float;\n",
    "           number should larger than one\n",
    "    \n",
    "    Examples\n",
    "    -----------\n",
    "    x = np.array([[0.1,0.2,0.3],[0.2,0.3,0.4]])\n",
    "    myjoe = JoeCopula()\n",
    "    myjoe.pdf(x,1.2)\n",
    "    \"\"\"\n",
    "    def __init__(self):\n",
    "        pass\n",
    "        \n",
    "    \"\"\"\n",
    "    def rvs(self):\n",
    "        return self._random_state.standard_exponential(self._size)\n",
    "\n",
    "    \"\"\"\n",
    "    \n",
    "    def cdf(self, x, theta):\n",
    "        \"\"\"\n",
    "        genarator function : f(x)\n",
    "        inverse genarator function : g(x)\n",
    "        X = (x1, x2, ... ,xn)\n",
    "        cdf(X) = g(f(x1)+f(x2)+...+f(xn))\n",
    "        \"\"\"\n",
    "        term = np.sum(-np.log(1.0-(1.0-x)**theta),axis=-1)\n",
    "        return 1.0-(1.0-np.exp(-term))**(1.0/theta)\n",
    "    \n",
    "    def pdf(self, x, theta):\n",
    "        \"\"\"\n",
    "        genarator function : f(x)\n",
    "        inverse genarator function : g(x)\n",
    "        X = (x1, x2, ... ,xn)\n",
    "        pdf(X) = g^{(-n)}(f(x1)+f(x2)+...+f(xn))f'(x1)f'(x2)...f'(xn)\n",
    "        \"\"\"\n",
    "        dim = x.shape[-1]\n",
    "        term = np.sum(-np.log(1.0-(1.0-x)**theta),axis=-1)\n",
    "        \n",
    "        # get the differentiation of the genarator function and inverse genarator function\n",
    "        t = sp.Symbol('t')\n",
    "        f1 = 1.0-(1.0-sp.exp(-t))**(1.0/theta)\n",
    "        for i in range(dim):\n",
    "            f1 = sp.diff(f1,t)\n",
    "        f2 = -sp.log(1.0-(1.0-t)**theta)                       \n",
    "        f2 = sp.diff(f2,t)\n",
    "        \n",
    "        # get ufunc of the differentiation equation\n",
    "        u1 = lambda z: f1.subs(t,z)\n",
    "        u1 = np.frompyfunc(u1,1,1)\n",
    "        u2 = lambda z: f2.subs(t,z)\n",
    "        u2 = np.frompyfunc(u2,1,1)\n",
    "        return u1(term)*np.prod(u2(x),axis=-1)\n",
    "\n",
    "    def tau(self, x, theta):\n",
    "        \"\"\"\n",
    "        genarator function : f(t)\n",
    "        $$tau(x)=1+\\int^1_0 \\frac{f(t)}{f'(t)}dt$$\n",
    "        \"\"\"\n",
    "        f = lambda t: np.log(1.0-(1.0-t)**theta)/(theta*(1.0-t)**(theta-1.0)/(1.0-(1.0-t)**theta))# f = (-log(1-(1-t)^theta)) / (theta*(1-t)^theta/(1-(1-t)^theta))\n",
    "        return 1.0+4.0*integrate.quad(f, 0, 1.0)[0]\n",
    "    \n",
    "#----------class definition----------\n",
    "        \n",
    "        \n",
    "\n",
    "#----------main function----------\n",
    "\n",
    "if __name__ == '__main__':\n",
    "    x = np.array([[0.1,0.2,0.3],[0.2,0.3,0.4]])\n",
    "    myjoe = JoeCopula()\n",
    "    print(myjoe.cdf(x, 1.1))\n",
    "        \n"
   ]
  },
  {
   "cell_type": "code",
   "execution_count": 5,
   "metadata": {
    "collapsed": false
   },
   "outputs": [
    {
     "data": {
      "text/plain": [
       "array([1.13307613035283, 1.09741762777262], dtype=object)"
      ]
     },
     "execution_count": 5,
     "metadata": {},
     "output_type": "execute_result"
    }
   ],
   "source": [
    "x = np.array([[0.1,0.2,0.3],[0.2,0.3,0.4]])\n",
    "myjoe = JoeCopula()\n",
    "myjoe.pdf(x, 1.1)"
   ]
  },
  {
   "cell_type": "code",
   "execution_count": 6,
   "metadata": {
    "collapsed": false
   },
   "outputs": [
    {
     "data": {
      "text/plain": [
       "0.05439832056368421"
      ]
     },
     "execution_count": 6,
     "metadata": {},
     "output_type": "execute_result"
    }
   ],
   "source": [
    "myjoe.tau(x, 1.1)"
   ]
  },
  {
   "cell_type": "code",
   "execution_count": null,
   "metadata": {
    "collapsed": true
   },
   "outputs": [],
   "source": []
  }
 ],
 "metadata": {
  "anaconda-cloud": {},
  "kernelspec": {
   "display_name": "Python [conda root]",
   "language": "python",
   "name": "conda-root-py"
  },
  "language_info": {
   "codemirror_mode": {
    "name": "ipython",
    "version": 3
   },
   "file_extension": ".py",
   "mimetype": "text/x-python",
   "name": "python",
   "nbconvert_exporter": "python",
   "pygments_lexer": "ipython3",
   "version": "3.5.2"
  }
 },
 "nbformat": 4,
 "nbformat_minor": 1
}
